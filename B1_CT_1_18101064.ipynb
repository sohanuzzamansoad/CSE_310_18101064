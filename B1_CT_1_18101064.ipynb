{
  "nbformat": 4,
  "nbformat_minor": 0,
  "metadata": {
    "colab": {
      "name": "B1_CT_1_18101064.ipynb",
      "provenance": [],
      "authorship_tag": "ABX9TyPGb2VK63CBD6Vh/sQD8l3D",
      "include_colab_link": true
    },
    "kernelspec": {
      "name": "python3",
      "display_name": "Python 3"
    }
  },
  "cells": [
    {
      "cell_type": "markdown",
      "metadata": {
        "id": "view-in-github",
        "colab_type": "text"
      },
      "source": [
        "<a href=\"https://colab.research.google.com/github/sohanuzzamansoad/CSE_310_18101064/blob/master/B1_CT_1_18101064.ipynb\" target=\"_parent\"><img src=\"https://colab.research.google.com/assets/colab-badge.svg\" alt=\"Open In Colab\"/></a>"
      ]
    },
    {
      "cell_type": "markdown",
      "metadata": {
        "id": "KrBbrjavJmOq",
        "colab_type": "text"
      },
      "source": [
        "**1. Write a python program to calculate the perimeter of a circle**"
      ]
    },
    {
      "cell_type": "code",
      "metadata": {
        "id": "6-swYrvBJse2",
        "colab_type": "code",
        "colab": {
          "base_uri": "https://localhost:8080/",
          "height": 51
        },
        "outputId": "c06c64b0-3f01-47d8-b087-18af4a9b3939"
      },
      "source": [
        "r=float(input('Radius:'))\n",
        "perimeter = 2* 3.1416 *r\n",
        "print('Perimeter:', round(perimeter,2))\n"
      ],
      "execution_count": null,
      "outputs": [
        {
          "output_type": "stream",
          "text": [
            "Radius:10\n",
            "Perimeter: 62.83\n"
          ],
          "name": "stdout"
        }
      ]
    },
    {
      "cell_type": "markdown",
      "metadata": {
        "id": "pOd8wZapKV2y",
        "colab_type": "text"
      },
      "source": [
        "**2. Write a python program to calculate the average of five numbers**"
      ]
    },
    {
      "cell_type": "code",
      "metadata": {
        "id": "TVnMkZrAKaiq",
        "colab_type": "code",
        "colab": {
          "base_uri": "https://localhost:8080/",
          "height": 119
        },
        "outputId": "c2f892d4-c709-4c9e-c4af-6d9a0bdbdcc4"
      },
      "source": [
        "a= float(input('Input 1:'))\n",
        "b= float(input('Input 2:'))\n",
        "c= float(input('Input 3:'))\n",
        "d= float(input('Input 4:'))\n",
        "e= float(input('Input 5:'))\n",
        "avg=((a+b+c+d+e)/5)\n",
        "print('average:', avg)"
      ],
      "execution_count": null,
      "outputs": [
        {
          "output_type": "stream",
          "text": [
            "Input 1:10\n",
            "Input 2:20\n",
            "Input 3:30\n",
            "Input 4:40\n",
            "Input 5:50\n",
            "average: 30.0\n"
          ],
          "name": "stdout"
        }
      ]
    },
    {
      "cell_type": "markdown",
      "metadata": {
        "id": "qAn8E5cjLbjI",
        "colab_type": "text"
      },
      "source": [
        "**3. Write a python program to calculate simple interest.**"
      ]
    },
    {
      "cell_type": "code",
      "metadata": {
        "id": "LS1tghL-Ldto",
        "colab_type": "code",
        "colab": {
          "base_uri": "https://localhost:8080/",
          "height": 85
        },
        "outputId": "7f58233d-1d98-499a-b57e-4f5837a33a76"
      },
      "source": [
        "p=float(input('P:'))\n",
        "r=float(input('R:'))\n",
        "t=int(input('T:'))\n",
        "s_i=(p*r*t)/100\n",
        "print(round(s_i)) "
      ],
      "execution_count": null,
      "outputs": [
        {
          "output_type": "stream",
          "text": [
            "P:3000\n",
            "R:7\n",
            "T:1\n",
            "210\n"
          ],
          "name": "stdout"
        }
      ]
    }
  ]
}