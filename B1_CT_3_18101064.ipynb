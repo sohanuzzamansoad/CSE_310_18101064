{
  "nbformat": 4,
  "nbformat_minor": 0,
  "metadata": {
    "colab": {
      "name": "B1_CT_3_18101064.ipynb",
      "provenance": [],
      "collapsed_sections": [],
      "include_colab_link": true
    },
    "kernelspec": {
      "name": "python3",
      "display_name": "Python 3"
    }
  },
  "cells": [
    {
      "cell_type": "markdown",
      "metadata": {
        "id": "view-in-github",
        "colab_type": "text"
      },
      "source": [
        "<a href=\"https://colab.research.google.com/github/sohanuzzamansoad/CSE_310_18101064/blob/master/B1_CT_3_18101064.ipynb\" target=\"_parent\"><img src=\"https://colab.research.google.com/assets/colab-badge.svg\" alt=\"Open In Colab\"/></a>"
      ]
    },
    {
      "cell_type": "markdown",
      "metadata": {
        "id": "aZOJvfgncCu6",
        "colab_type": "text"
      },
      "source": [
        " **1. Write a python program to Sum the following series:**"
      ]
    },
    {
      "cell_type": "code",
      "metadata": {
        "id": "o3b7I-TGdASU",
        "colab_type": "code",
        "colab": {
          "base_uri": "https://localhost:8080/",
          "height": 51
        },
        "outputId": "73c91388-d867-45fe-f9f2-1b2a6d33e765"
      },
      "source": [
        "n=int(input('N:'))\n",
        "ic=1\n",
        "sum=0\n",
        "for i in range(n):\n",
        "  sum+=ic\n",
        "  ic+=2\n",
        "print('Sum:',sum)\n",
        "\n",
        "# 1 + 3 + 5 + 7 "
      ],
      "execution_count": null,
      "outputs": [
        {
          "output_type": "stream",
          "text": [
            "N:4\n",
            "Sum: 16\n"
          ],
          "name": "stdout"
        }
      ]
    },
    {
      "cell_type": "markdown",
      "metadata": {
        "id": "QHkPz2ced8hV",
        "colab_type": "text"
      },
      "source": [
        " **2. First store information of each student from the following Students table in a dictionary. Then create another dictionary to store all the students’ information. Now, use a loop to iterate through a dictionary of students (dictionary) and print only the “name” of all the students** \t"
      ]
    },
    {
      "cell_type": "code",
      "metadata": {
        "id": "tKypSZOreCgz",
        "colab_type": "code",
        "colab": {
          "base_uri": "https://localhost:8080/",
          "height": 85
        },
        "outputId": "e092c092-2b85-4986-f449-aaac4f65b372"
      },
      "source": [
        "s1={'ID': 1,\n",
        "    'First Name':'Peter',\n",
        "    'Last Name': 'Lee',\n",
        "    'Email': 'plee@university.edu',\n",
        "    'Year of Birth': 1992}\n",
        "\n",
        "s2={'ID': 2,\n",
        "    'First Name':'Jonathan',\n",
        "    'Last Name': 'Edwards',\n",
        "    'Email': 'jedwards@university.edu',\n",
        "    'Year of Birth': 1994}\n",
        "\n",
        "s3={'ID': 3,\n",
        "    'First Name':'Marilyn',\n",
        "    'Last Name': 'Johnson',\n",
        "    'Email': 'mjohnson@university.edu',\n",
        "    'Year of Birth': 1993}\n",
        "\n",
        "s4={'ID': 6,\n",
        "    'First Name':'Joe',\n",
        "    'Last Name': 'Kim',\n",
        "    'Email': 'jkim@university.edu',\n",
        "    'Year of Birth': 1992}\n",
        "\n",
        "student_dic =[s1,s2,s3,s4]\n",
        "\n",
        "for student in student_dic:\n",
        "  print(student['First Name']+' '+student['Last Name'])"
      ],
      "execution_count": null,
      "outputs": [
        {
          "output_type": "stream",
          "text": [
            "Peter Lee\n",
            "Jonathan Edwards\n",
            "Marilyn Johnson\n",
            "Joe Kim\n"
          ],
          "name": "stdout"
        }
      ]
    },
    {
      "cell_type": "markdown",
      "metadata": {
        "id": "wR-AbKLYc8lh",
        "colab_type": "text"
      },
      "source": [
        ""
      ]
    }
  ]
}