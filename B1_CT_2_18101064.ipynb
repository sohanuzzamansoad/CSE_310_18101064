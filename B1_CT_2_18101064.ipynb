{
  "nbformat": 4,
  "nbformat_minor": 0,
  "metadata": {
    "colab": {
      "name": "B1_CT_2_18101064.ipynb",
      "provenance": [],
      "collapsed_sections": [],
      "authorship_tag": "ABX9TyNDM92MRylzxdbubZtE1l8A",
      "include_colab_link": true
    },
    "kernelspec": {
      "name": "python3",
      "display_name": "Python 3"
    }
  },
  "cells": [
    {
      "cell_type": "markdown",
      "metadata": {
        "id": "view-in-github",
        "colab_type": "text"
      },
      "source": [
        "<a href=\"https://colab.research.google.com/github/sohanuzzamansoad/CSE_310_18101064/blob/master/B1_CT_2_18101064.ipynb\" target=\"_parent\"><img src=\"https://colab.research.google.com/assets/colab-badge.svg\" alt=\"Open In Colab\"/></a>"
      ]
    },
    {
      "cell_type": "markdown",
      "metadata": {
        "id": "PesfXEJFO0Kc",
        "colab_type": "text"
      },
      "source": [
        "**1. Print the minimum value from three given integers**"
      ]
    },
    {
      "cell_type": "code",
      "metadata": {
        "id": "IHmPdfB8IAOa",
        "colab_type": "code",
        "colab": {
          "base_uri": "https://localhost:8080/",
          "height": 85
        },
        "outputId": "59693398-1c93-4dc0-f1c6-7cf016c579e0"
      },
      "source": [
        "a= int(input('Input 1:'))\n",
        "b= int(input('Input 2:'))\n",
        "c= int(input('Input 3:'))\n",
        "if (a<=b) and (a<=c):\n",
        "  print(a)\n",
        "elif (b<=a) and (b<=c):\n",
        "  print(b)\n",
        "else:\n",
        "  print('Output:',c)\n"
      ],
      "execution_count": null,
      "outputs": [
        {
          "output_type": "stream",
          "text": [
            "Input 1:10\n",
            "Input 2:20\n",
            "Input 3:5\n",
            "Output: 5\n"
          ],
          "name": "stdout"
        }
      ]
    },
    {
      "cell_type": "markdown",
      "metadata": {
        "id": "9F6b9YhaQdtw",
        "colab_type": "text"
      },
      "source": [
        "**2. Write a python program to calculate the grade of an exam. The exam mark will be given as input. Follow the UAP rule for grading.**"
      ]
    },
    {
      "cell_type": "code",
      "metadata": {
        "id": "VvvvfosNQiE0",
        "colab_type": "code",
        "colab": {
          "base_uri": "https://localhost:8080/",
          "height": 51
        },
        "outputId": "59977326-9bc1-43cf-e868-902cd5349102"
      },
      "source": [
        "marks=float(input(\"Input:\"))\n",
        "\n",
        "if marks>=80:\n",
        "  print('Output: A+')\n",
        "elif (marks>=75) and (marks<80):\n",
        "  print('Output: A')\n",
        "elif (marks>=70) and (marks<75):\n",
        "  print('Output: A-')\n",
        "elif (marks>=65) and (marks<70):\n",
        "  print('Output: B+')\n",
        "elif (marks>=60) and (marks<65):\n",
        "  print('Output: B')\n",
        "elif (marks>=55) and (marks<60):\n",
        "  print('Output: B-')\n",
        "elif (marks>=50) and (marks<55):\n",
        "  print('Output: C+')\n",
        "elif (marks>=45) and (marks<50):\n",
        "  print('Output: C')\n",
        "elif (marks>=40) and (marks<45):\n",
        "  print('Output: D')\n",
        "else:\n",
        "  print('Output: F')"
      ],
      "execution_count": null,
      "outputs": [
        {
          "output_type": "stream",
          "text": [
            "Input:74\n",
            "Output: A-\n"
          ],
          "name": "stdout"
        }
      ]
    },
    {
      "cell_type": "markdown",
      "metadata": {
        "id": "W7VbQ5BKSot3",
        "colab_type": "text"
      },
      "source": [
        "**3. Given a list of 5 elements, swap two values of specified index**"
      ]
    },
    {
      "cell_type": "code",
      "metadata": {
        "id": "nSY2ISSgS2gQ",
        "colab_type": "code",
        "colab": {
          "base_uri": "https://localhost:8080/",
          "height": 153
        },
        "outputId": "7d5e516b-c6db-4783-93fb-7ecbe5463f6d"
      },
      "source": [
        "e1=input('Element 1:')\n",
        "e2=input('Element 2:')\n",
        "e3=input('Element 3:')\n",
        "e4=input('Element 4:')\n",
        "e5=input('Element 5:')\n",
        "ls=[e1,e2,e3,e4,e5]\n",
        "index1=int(input('Index 1:'))\n",
        "index2= int(input('Index 2:'))\n",
        "temp=ls[index2]\n",
        "ls[index2]=ls[index1]\n",
        "ls[index1]=temp\n",
        "print('Output:', ls)"
      ],
      "execution_count": null,
      "outputs": [
        {
          "output_type": "stream",
          "text": [
            "Element 1:10\n",
            "Element 2:1\n",
            "Element 3:5\n",
            "Element 4:3\n",
            "Element 5:2\n",
            "Index 1:2\n",
            "Index 2:4\n",
            "Output: ['10', '1', '2', '3', '5']\n"
          ],
          "name": "stdout"
        }
      ]
    },
    {
      "cell_type": "markdown",
      "metadata": {
        "id": "YzTsNHDGUqbG",
        "colab_type": "text"
      },
      "source": [
        "**4. Choose variables of appropriate data type to store the following information.**"
      ]
    },
    {
      "cell_type": "code",
      "metadata": {
        "id": "eqGlFiqFUtFj",
        "colab_type": "code",
        "colab": {
          "base_uri": "https://localhost:8080/",
          "height": 34
        },
        "outputId": "3dc72299-6b01-4980-f34f-e9dd8aea932c"
      },
      "source": [
        "e1={\n",
        "    'EmpID': 77920,\n",
        "    'LastName': 'Jackson',\n",
        "    'FirstName': 'Stephen',\n",
        "    'HireDate':'11-29-1997'\n",
        "}\n",
        "\n",
        "e2={\n",
        "    'EmpID': 77921,\n",
        "    'LastName': 'Reynolds',\n",
        "    'FirstName': 'Sandy',\n",
        "    'HireDate':'01-04-1993'\n",
        "}\n",
        "\n",
        "e3={\n",
        "    'EmpID': 77922,\n",
        "    'LastName': 'Armstrong',\n",
        "    'FirstName': 'Stephen',\n",
        "    'HireDate':'09-16-1989'\n",
        "}\n",
        "\n",
        "e4={\n",
        "    'EmpID': 77823,\n",
        "    'LastName': 'Jackson',\n",
        "    'FirstName': 'Linda',\n",
        "    'HireDate':'10-09-1996'\n",
        "}\n",
        "\n",
        "emp={\n",
        "    '77920': e1,\n",
        "     '77921': e2,\n",
        "     '77922':e3,\n",
        "     '77823':e4\n",
        "}\n",
        "\n",
        "#print(emp['77922']['LastName'])"
      ],
      "execution_count": null,
      "outputs": [
        {
          "output_type": "stream",
          "text": [
            "Armstrong\n"
          ],
          "name": "stdout"
        }
      ]
    }
  ]
}