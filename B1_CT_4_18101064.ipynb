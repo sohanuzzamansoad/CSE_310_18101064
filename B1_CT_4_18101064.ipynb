{
  "nbformat": 4,
  "nbformat_minor": 0,
  "metadata": {
    "colab": {
      "name": "B1_CT_4_18101064.ipynb",
      "provenance": [],
      "collapsed_sections": [],
      "include_colab_link": true
    },
    "kernelspec": {
      "name": "python3",
      "display_name": "Python 3"
    }
  },
  "cells": [
    {
      "cell_type": "markdown",
      "metadata": {
        "id": "view-in-github",
        "colab_type": "text"
      },
      "source": [
        "<a href=\"https://colab.research.google.com/github/sohanuzzamansoad/CSE_310_18101064/blob/master/B1_CT_4_18101064.ipynb\" target=\"_parent\"><img src=\"https://colab.research.google.com/assets/colab-badge.svg\" alt=\"Open In Colab\"/></a>"
      ]
    },
    {
      "cell_type": "markdown",
      "metadata": {
        "id": "1aPnJmy8S0kr",
        "colab_type": "text"
      },
      "source": [
        "##  1. Write an Employee class in python to store the following information. Create an object of the class for each employee"
      ]
    },
    {
      "cell_type": "code",
      "metadata": {
        "id": "VVRKDjFFTmr1",
        "colab_type": "code",
        "colab": {
          "base_uri": "https://localhost:8080/",
          "height": 34
        },
        "outputId": "dc34b858-2174-412f-c01d-8cdba1295243"
      },
      "source": [
        "class Employee:\n",
        "\n",
        "  def __init__(self, id, name, dept, position, manager, level):\n",
        "    self.id=id\n",
        "    self.name=name\n",
        "    self.dept=dept\n",
        "    self.position=position\n",
        "    self.manager=manager\n",
        "    self.level=level\n",
        "\n",
        "e1=Employee(1,'David','Manager','IT','NULL', 1)\n",
        "e2=Employee(4,'Julia','Manager','HR','NULL', 1)\n",
        "e1=Employee(8,'Sophie','Manager','Marketing','NULL', 1)\n",
        "\n",
        "print(e1.name, e1.level)"
      ],
      "execution_count": null,
      "outputs": [
        {
          "output_type": "stream",
          "text": [
            "Sophie 1\n"
          ],
          "name": "stdout"
        }
      ]
    },
    {
      "cell_type": "markdown",
      "metadata": {
        "id": "UxfwP0CLWHGP",
        "colab_type": "text"
      },
      "source": [
        "## 2.Write a Bank Account class in python to manage the account of the users. A user can deposit and withdraw money from his/her own account based on availability. Moreover, the account stores the following information"
      ]
    },
    {
      "cell_type": "code",
      "metadata": {
        "id": "JUkVHx6WWNc4",
        "colab_type": "code",
        "colab": {
          "base_uri": "https://localhost:8080/",
          "height": 68
        },
        "outputId": "a2f68c9c-cd0d-4510-85d6-8c67eca052d8"
      },
      "source": [
        "class Bank:\n",
        "  \n",
        "  def __init__(self,Acc_Name, Acc_Num, Current_balnc):\n",
        "     self.Acc_Name= Acc_Name\n",
        "     self.Acc_Num=Acc_Num\n",
        "     self.__Current_balnc=Current_balnc\n",
        "\n",
        "  def deposit(self, amount):\n",
        "    self.__Current_balnc+=amount\n",
        "\n",
        "  def withdraw(self, amount):\n",
        "    if(amount <=self.__Current_balnc):\n",
        "      self.__Current_balnc-=amount\n",
        "\n",
        "    \n",
        "  def showBalance(self):\n",
        "    print(self.__Current_balnc)\n",
        "  \n",
        "#MyAcc=Bank('Soad',1810,1000)\n",
        "#MyAcc.showBalance()\n",
        "#MyAcc.deposit(100)\n",
        "#MyAcc.showBalance()\n",
        "#MyAcc.withdraw(10000) # Failed Due to Availability\n",
        "#MyAcc.showBalance()"
      ],
      "execution_count": null,
      "outputs": [
        {
          "output_type": "stream",
          "text": [
            "1000\n",
            "1100\n",
            "1100\n"
          ],
          "name": "stdout"
        }
      ]
    },
    {
      "cell_type": "markdown",
      "metadata": {
        "id": "mFbLFRemYH9U",
        "colab_type": "text"
      },
      "source": [
        "## 3.Write a python function to calculate the sum of the following series:\n",
        "log(1) + log(2) + log(3) + …. + log(n) = ?\n"
      ]
    },
    {
      "cell_type": "code",
      "metadata": {
        "id": "-SH_xSR2YMkq",
        "colab_type": "code",
        "colab": {
          "base_uri": "https://localhost:8080/",
          "height": 51
        },
        "outputId": "c972122f-39e3-4b8e-f70e-1823f4ac4eff"
      },
      "source": [
        "import math\n",
        "\n",
        "\n",
        "#Function for Sum of Series \n",
        "def logSum(n):\n",
        "  sum=0\n",
        "  for i in range(1,n+1):\n",
        "    sum+=math.log(i)\n",
        "  print(round(sum,2))\n",
        "\n",
        "\n",
        "n=int(input(\"Enter Value of N:\"))\n",
        "print('Sum',logSum(n))"
      ],
      "execution_count": null,
      "outputs": [
        {
          "output_type": "stream",
          "text": [
            "Enter Value of N:4\n",
            "Sum 3.18\n"
          ],
          "name": "stdout"
        }
      ]
    }
  ]
}